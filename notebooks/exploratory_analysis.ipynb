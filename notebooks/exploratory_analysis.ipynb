{
 "cells": [
  {
   "cell_type": "code",
   "execution_count": null,
   "metadata": {},
   "outputs": [],
   "source": [
    "# Example: Load and visualize dataset\n",
    "import matplotlib.pyplot as plt\n",
    "from src.data_loading.dataset import CustomDataset\n",
    "\n",
    "# Load dataset\n",
    "dataset = CustomDataset(root=\"data/datasets/custom_dataset\", image_size=512)\n",
    "\n",
    "# Visualize some images\n",
    "fig, axes = plt.subplots(2, 5, figsize=(10, 5))\n",
    "for i, ax in enumerate(axes.flat):\n",
    "    img, caption = dataset[i]\n",
    "    ax.imshow(img.permute(1, 2, 0))\n",
    "    ax.set_title(caption)\n",
    "    ax.axis(\"off\")\n",
    "plt.show()"
   ]
  }
 ],
 "metadata": {
  "language_info": {
   "name": "python"
  }
 },
 "nbformat": 4,
 "nbformat_minor": 2
}
