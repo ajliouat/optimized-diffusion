{
 "cells": [
  {
   "cell_type": "code",
   "execution_count": null,
   "metadata": {},
   "outputs": [],
   "source": [
    "# Example: Run inference\n",
    "from src.model.diffusion import OptimizedStableDiffusion\n",
    "from PIL import Image\n",
    "\n",
    "# Initialize model\n",
    "model = OptimizedStableDiffusion(use_flash_attention=True)\n",
    "\n",
    "# Generate images\n",
    "images = model(\"A futuristic cityscape at sunset\", num_images=4, image_size=512)\n",
    "for img in images:\n",
    "    display(img)"
   ]
  }
 ],
 "metadata": {
  "language_info": {
   "name": "python"
  }
 },
 "nbformat": 4,
 "nbformat_minor": 2
}
